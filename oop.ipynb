{
 "cells": [
  {
   "cell_type": "code",
   "execution_count": 1,
   "metadata": {},
   "outputs": [
    {
     "name": "stdout",
     "output_type": "stream",
     "text": [
      "Length of the rectangle :  10\n",
      "Width of the rectangle :  20\n",
      "Area of the rectangle :  200\n",
      "Perimeter of the rectangle :  60\n"
     ]
    }
   ],
   "source": [
    "'''1.Create a Python class named Rectangle with attributes length and width. Implement methods to calculate the area \n",
    "     and perimeter of the rectangle.'''\n",
    "     \n",
    "     \n",
    "class Rectangle :\n",
    "    \n",
    "    def __init__(self, length, width) :\n",
    "             \n",
    "        self.length = length\n",
    "        self.width  = width\n",
    "     \n",
    "    def display(self):\n",
    "        \n",
    "        print(\"Length of the rectangle : \", self.length) \n",
    "        print(\"Width of the rectangle : \", self.width)\n",
    "       \n",
    "    def area(self) :\n",
    "    \n",
    "        print(\"Area of the rectangle : \", self.length * self.width)\n",
    "        \n",
    "    def perimeter(self) :\n",
    "        \n",
    "        print(\"Perimeter of the rectangle : \", 2 * (self.length + self.width))\n",
    "    \n",
    "\n",
    "my_rectangle = Rectangle(10,20)\n",
    "\n",
    "my_rectangle.display()\n",
    "\n",
    "my_rectangle.area()\n",
    "\n",
    "my_rectangle.perimeter()\n",
    "\n",
    "           \n",
    "         "
   ]
  },
  {
   "cell_type": "code",
   "execution_count": 2,
   "metadata": {},
   "outputs": [
    {
     "name": "stdout",
     "output_type": "stream",
     "text": [
      "Radius of circle :  5\n",
      "Area of the circle :  78.53981633974483\n",
      "Circumference of the circle :  31.41592653589793\n"
     ]
    }
   ],
   "source": [
    "'''2.Create a Python class Circle with attribute radius. Implement methods to calculate the area and circumference of the circle.'''\n",
    "\n",
    "import math\n",
    "\n",
    "class Circle : \n",
    "    \n",
    "    def __init__(self, radius) : \n",
    "        \n",
    "        self.radius = radius\n",
    "        \n",
    "    def display(self) :\n",
    "        \n",
    "        print(\"Radius of circle : \",self.radius)\n",
    "        \n",
    "    def area(self) :\n",
    "        \n",
    "        print(\"Area of the circle : \", math.pi * self.radius ** 2)\n",
    "        \n",
    "    def circum(self) :\n",
    "        \n",
    "        print(\"Circumference of the circle : \", 2 * math.pi * self.radius)\n",
    "        \n",
    "my_circle = Circle(5)\n",
    "\n",
    "my_circle.display()\n",
    "\n",
    "my_circle.area()\n",
    "\n",
    "my_circle.circum()\n",
    "\n",
    "\n",
    "        \n",
    "    "
   ]
  },
  {
   "cell_type": "code",
   "execution_count": 3,
   "metadata": {},
   "outputs": [
    {
     "name": "stdout",
     "output_type": "stream",
     "text": [
      "Details of the employee : \n",
      " \n",
      "Name        :  John Snow\n",
      "Salary      :  4 lpa\n",
      "Designation :  Data Analyst\n"
     ]
    }
   ],
   "source": [
    "'''3.Create a Python class Employee with attributes name, salary, and designation. Implement a method to display employee details.'''\n",
    "\n",
    "class Employee :\n",
    "    \n",
    "    def __init__(self, name, salary, designation) :\n",
    "        \n",
    "        self.name = name\n",
    "        self.salary = salary\n",
    "        self.designation = designation\n",
    "        \n",
    "    def details(self) :\n",
    "        \n",
    "        print(\"Details of the employee : \")\n",
    "        print(\" \")\n",
    "        print(\"Name        : \", self.name)\n",
    "        print(\"Salary      : \",self.salary)\n",
    "        print(\"Designation : \",self.designation)\n",
    "        \n",
    "my_employee = Employee(\"John Snow\",\"4 lpa\",\"Data Analyst\")\n",
    "\n",
    "my_employee.details()\n",
    "        "
   ]
  },
  {
   "cell_type": "code",
   "execution_count": 7,
   "metadata": {},
   "outputs": [
    {
     "name": "stdout",
     "output_type": "stream",
     "text": [
      "Initial balance :  1000\n",
      "Rs. 500  deposited. Updated balance : Rs. 1500\n",
      "Rs. 200  withdrawn. Updated balance : Rs. 1300\n"
     ]
    }
   ],
   "source": [
    "'''4.Create a Python class BankAccount with attributes balance. Implement methods to deposit and withdraw money from the account.'''\n",
    "\n",
    "class BankAccount :\n",
    "    \n",
    "    def __init__(self, balance=1000):\n",
    "        \n",
    "        self.balance = balance\n",
    "        \n",
    "        print(\"Initial balance : \",self.balance)\n",
    "        \n",
    "    def deposit(self, amount) :\n",
    "        \n",
    "        self.balance = self.balance + amount\n",
    "        \n",
    "        print(\"Rs.\",amount,\" deposited. Updated balance : Rs.\",self.balance)\n",
    "        \n",
    "    def withdraw(self, amount) :\n",
    "        \n",
    "        if amount <= self.balance :\n",
    "        \n",
    "            self.balance = self.balance - amount\n",
    "        \n",
    "            print(\"Rs.\",amount,\" withdrawn. Updated balance : Rs.\",self.balance)\n",
    "\n",
    "        else :\n",
    "            \n",
    "            print(\"Low Balance\")\n",
    "            \n",
    "my_account = BankAccount()\n",
    "\n",
    "my_account.deposit(500)\n",
    "\n",
    "my_account.withdraw(200)\n",
    "            \n",
    "\n",
    "        \n"
   ]
  },
  {
   "cell_type": "code",
   "execution_count": 8,
   "metadata": {},
   "outputs": [
    {
     "name": "stdout",
     "output_type": "stream",
     "text": [
      "Robert  has obtained  69%\n",
      "Robert  is not eligible for graduation.\n"
     ]
    }
   ],
   "source": [
    "'''5.Create a Python class Student with attributes name, age, and grade. Implement a method to determine if a student \n",
    "     is eligible for graduation based on their grade (>= 70).'''\n",
    "     \n",
    "class Student :\n",
    "    \n",
    "    def __init__(self, name, age, grade):\n",
    "        \n",
    "        self.name = name\n",
    "        self.age = age\n",
    "        self.grade = grade\n",
    "        \n",
    "    def check(self) :\n",
    "        \n",
    "        print(self.name,\" has obtained \",self.grade)\n",
    "        \n",
    "        if self.grade >= \"70\" :\n",
    "            \n",
    "            print(self.name,\" is eligible for graduation\")\n",
    "            \n",
    "        else :\n",
    "            \n",
    "            print(self.name,\" is not eligible for graduation.\")\n",
    "            \n",
    "my_student = Student(\"Robert\",45,\"69%\")\n",
    "\n",
    "my_student.check()"
   ]
  },
  {
   "cell_type": "code",
   "execution_count": 9,
   "metadata": {},
   "outputs": [
    {
     "name": "stdout",
     "output_type": "stream",
     "text": [
      "Make of the car  :  Bentley\n",
      "Model of the car :  Continental GT\n",
      "Year of the car  :  2023\n"
     ]
    }
   ],
   "source": [
    "'''6.Create a Python class Car with attributes make, model, and year. Implement a method to display the car's details.'''\n",
    "\n",
    "class Car :\n",
    "    \n",
    "    def __init__(self, make, model, year) :\n",
    "        \n",
    "        self.make = make\n",
    "        self.model = model\n",
    "        self.year = year\n",
    "        \n",
    "    def details(self) : \n",
    "        \n",
    "        print(\"Make of the car  : \",self.make)\n",
    "        \n",
    "        print(\"Model of the car : \",self.model)\n",
    "        \n",
    "        print(\"Year of the car  : \",self.year)\n",
    "        \n",
    "my_car = Car(\"Bentley\",\"Continental GT\",2023)\n",
    "\n",
    "my_car.details()"
   ]
  },
  {
   "cell_type": "code",
   "execution_count": 10,
   "metadata": {},
   "outputs": [
    {
     "name": "stdout",
     "output_type": "stream",
     "text": [
      "Name of the book      :  The Night At The Hotel\n",
      "Author of the book    :  Siegfred Lenz\n",
      "Price of the book     :  400.0\n",
      "Discount of  20 % is applied.\n",
      "New price of the book :  400.0\n"
     ]
    }
   ],
   "source": [
    "'''7.Create a Python class Book with attributes title, author, and price. Implement a method to discount the \n",
    "     book price by a certain percentage.'''\n",
    "     \n",
    "class Book :\n",
    "    \n",
    "    def __init__(self, title, author, price) :\n",
    "        \n",
    "        self.title = title\n",
    "        self.author = author\n",
    "        self.price = price \n",
    "        \n",
    "    def discount(self, discount_percent) :\n",
    "        \n",
    "        self.price = self.price - self.price * (discount_percent)/100        \n",
    "        \n",
    "        print(\"Name of the book      : \",self.title)\n",
    "        \n",
    "        print(\"Author of the book    : \",self.author)\n",
    "        \n",
    "        print(\"Price of the book     : \",self.price)\n",
    "\n",
    "\n",
    "        \n",
    "        print(\"Discount of \",discount_percent,\"% is applied.\")\n",
    "        \n",
    "        print(\"New price of the book : \",self.price)\n",
    "        \n",
    "my_book = Book(\"The Night At The Hotel\",\"Siegfred Lenz\", 500)\n",
    "\n",
    "my_book.discount(20)"
   ]
  },
  {
   "cell_type": "code",
   "execution_count": 11,
   "metadata": {},
   "outputs": [
    {
     "name": "stdout",
     "output_type": "stream",
     "text": [
      "Name of the bank     :  Union Bank Of India\n",
      "Location of the bank :  Eluru\n"
     ]
    }
   ],
   "source": [
    "'''8.Create a Python class Bank with attributes name and location. Implement a method to display the bank's details.'''\n",
    "\n",
    "class Bank :\n",
    "    \n",
    "    def __init__(self, name, location) :\n",
    "        \n",
    "        self.name = name\n",
    "        self.location = location\n",
    "        \n",
    "    def details(self) :\n",
    "        \n",
    "        print(\"Name of the bank     : \", self.name)\n",
    "        \n",
    "        print(\"Location of the bank : \", self.location)\n",
    "        \n",
    "my_bank = Bank(\"Union Bank Of India\",\"Eluru\")\n",
    "\n",
    "my_bank.details()"
   ]
  },
  {
   "cell_type": "code",
   "execution_count": 12,
   "metadata": {},
   "outputs": [
    {
     "name": "stdout",
     "output_type": "stream",
     "text": [
      "Name of the dog :  Snoopy\n",
      "Age of the dog  :  0.5\n",
      "It is still a puppy\n"
     ]
    }
   ],
   "source": [
    "'''9.Python class Dog with attributes name and age. Implement a method to determine if the dog is a puppy (age < 1).'''\n",
    "\n",
    "class Dog :\n",
    "    \n",
    "    def __init__(self, name, age) :\n",
    "        \n",
    "        self.name = name\n",
    "        self.age = age\n",
    "        \n",
    "    def check(self) :\n",
    "        \n",
    "        print(\"Name of the dog : \",self.name)\n",
    "        print(\"Age of the dog  : \",self.age)\n",
    "        \n",
    "        if self.age < 1 :\n",
    "            \n",
    "            print(\"It is still a puppy\")\n",
    "        \n",
    "        else :\n",
    "            \n",
    "            print(\"It is an adult dog\")\n",
    "            \n",
    "my_dog = Dog(\"Snoopy\",0.5)\n",
    "\n",
    "my_dog.check()"
   ]
  },
  {
   "cell_type": "code",
   "execution_count": 15,
   "metadata": {},
   "outputs": [
    {
     "name": "stdout",
     "output_type": "stream",
     "text": [
      "Area of the triangle: 60.0\n",
      "Area of the square: 64\n"
     ]
    }
   ],
   "source": [
    "'''10.Create a Python class Shape with an abstract method area(). Implement subclasses Triangle and Square \n",
    "   with their own implementations of the area() method.'''\n",
    "from abc import ABC, abstractmethod\n",
    "\n",
    "\n",
    "class Shape(ABC):\n",
    "    \n",
    "    @ abstractmethod\n",
    "    \n",
    "    def area(self):\n",
    "        pass\n",
    "\n",
    "class Triangle(Shape):\n",
    "    def __init__(self, base, height):\n",
    "        self.base = base\n",
    "        self.height = height\n",
    "        \n",
    "    def area(self):\n",
    "        return 0.5 * self.base * self.height\n",
    "\n",
    "class Square(Shape):\n",
    "    def __init__(self, side):\n",
    "        self.side = side\n",
    "        \n",
    "    def area(self):\n",
    "        return self.side ** 2\n",
    "\n",
    "# Creating instances of Triangle and Square\n",
    "triangle = Triangle(8, 15)\n",
    "square = Square(8)\n",
    "\n",
    "print(\"Area of the triangle:\", triangle.area())\n",
    "print(\"Area of the square:\", square.area())"
   ]
  }
 ],
 "metadata": {
  "kernelspec": {
   "display_name": "Python 3",
   "language": "python",
   "name": "python3"
  },
  "language_info": {
   "codemirror_mode": {
    "name": "ipython",
    "version": 3
   },
   "file_extension": ".py",
   "mimetype": "text/x-python",
   "name": "python",
   "nbconvert_exporter": "python",
   "pygments_lexer": "ipython3",
   "version": "3.12.3"
  }
 },
 "nbformat": 4,
 "nbformat_minor": 2
}
